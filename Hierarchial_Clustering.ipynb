{
  "nbformat": 4,
  "nbformat_minor": 0,
  "metadata": {
    "colab": {
      "name": "Hierarchial Clustering",
      "provenance": [],
      "collapsed_sections": [],
      "authorship_tag": "ABX9TyPm6g0yzmFok2VuaYnfvptv",
      "include_colab_link": true
    },
    "kernelspec": {
      "name": "python3",
      "display_name": "Python 3"
    },
    "language_info": {
      "name": "python"
    },
    "accelerator": "TPU"
  },
  "cells": [
    {
      "cell_type": "markdown",
      "metadata": {
        "id": "view-in-github",
        "colab_type": "text"
      },
      "source": [
        "<a href=\"https://colab.research.google.com/github/Sankarlalr23/Automotive_Telematics_Analytics/blob/main/Hierarchial_Clustering.ipynb\" target=\"_parent\"><img src=\"https://colab.research.google.com/assets/colab-badge.svg\" alt=\"Open In Colab\"/></a>"
      ]
    },
    {
      "cell_type": "markdown",
      "metadata": {
        "id": "DY7lJUqyrvne"
      },
      "source": [
        "## Hierarchical Clustering to Time Series\n",
        "\n"
      ]
    },
    {
      "cell_type": "markdown",
      "metadata": {
        "id": "pHXYIXXBr51L"
      },
      "source": [
        "https://towardsdatascience.com/how-to-apply-hierarchical-clustering-to-time-series-a5fe2a7d8447"
      ]
    },
    {
      "cell_type": "code",
      "metadata": {
        "id": "QIcUbKiUsgcO"
      },
      "source": [
        "# pip install sktime"
      ],
      "execution_count": null,
      "outputs": []
    },
    {
      "cell_type": "code",
      "metadata": {
        "id": "hDpbktRarhb-"
      },
      "source": [
        "import pandas as pd\n",
        "import numpy as np\n",
        "import matplotlib.pyplot as plt\n",
        "\n"
      ],
      "execution_count": null,
      "outputs": []
    },
    {
      "cell_type": "code",
      "metadata": {
        "id": "bYPbGvzDrqzo"
      },
      "source": [
        "from sktime.datasets.base import load_italy_power_demand\n",
        "data = load_italy_power_demand()"
      ],
      "execution_count": null,
      "outputs": []
    },
    {
      "cell_type": "code",
      "metadata": {
        "colab": {
          "base_uri": "https://localhost:8080/",
          "height": 407
        },
        "id": "ORsLm8MdsEWN",
        "outputId": "c809326a-22c4-423c-cd70-dc2fb0044cd9"
      },
      "source": [
        "data"
      ],
      "execution_count": null,
      "outputs": [
        {
          "output_type": "execute_result",
          "data": {
            "text/html": [
              "<div>\n",
              "<style scoped>\n",
              "    .dataframe tbody tr th:only-of-type {\n",
              "        vertical-align: middle;\n",
              "    }\n",
              "\n",
              "    .dataframe tbody tr th {\n",
              "        vertical-align: top;\n",
              "    }\n",
              "\n",
              "    .dataframe thead th {\n",
              "        text-align: right;\n",
              "    }\n",
              "</style>\n",
              "<table border=\"1\" class=\"dataframe\">\n",
              "  <thead>\n",
              "    <tr style=\"text-align: right;\">\n",
              "      <th></th>\n",
              "      <th>dim_0</th>\n",
              "      <th>class_val</th>\n",
              "    </tr>\n",
              "  </thead>\n",
              "  <tbody>\n",
              "    <tr>\n",
              "      <th>0</th>\n",
              "      <td>0    -0.710520\n",
              "1    -1.183300\n",
              "2    -1.372400\n",
              "3...</td>\n",
              "      <td>1</td>\n",
              "    </tr>\n",
              "    <tr>\n",
              "      <th>1</th>\n",
              "      <td>0    -0.993010\n",
              "1    -1.426800\n",
              "2    -1.579900\n",
              "3...</td>\n",
              "      <td>1</td>\n",
              "    </tr>\n",
              "    <tr>\n",
              "      <th>2</th>\n",
              "      <td>0     1.319100\n",
              "1     0.569770\n",
              "2     0.195130\n",
              "3...</td>\n",
              "      <td>2</td>\n",
              "    </tr>\n",
              "    <tr>\n",
              "      <th>3</th>\n",
              "      <td>0    -0.812440\n",
              "1    -1.157600\n",
              "2    -1.416400\n",
              "3...</td>\n",
              "      <td>2</td>\n",
              "    </tr>\n",
              "    <tr>\n",
              "      <th>4</th>\n",
              "      <td>0    -0.972840\n",
              "1    -1.390500\n",
              "2    -1.536700\n",
              "3...</td>\n",
              "      <td>1</td>\n",
              "    </tr>\n",
              "    <tr>\n",
              "      <th>...</th>\n",
              "      <td>...</td>\n",
              "      <td>...</td>\n",
              "    </tr>\n",
              "    <tr>\n",
              "      <th>1024</th>\n",
              "      <td>0     0.431020\n",
              "1    -0.518480\n",
              "2    -1.118200\n",
              "3...</td>\n",
              "      <td>2</td>\n",
              "    </tr>\n",
              "    <tr>\n",
              "      <th>1025</th>\n",
              "      <td>0    -0.61222\n",
              "1    -1.04990\n",
              "2    -1.36250\n",
              "3   ...</td>\n",
              "      <td>1</td>\n",
              "    </tr>\n",
              "    <tr>\n",
              "      <th>1026</th>\n",
              "      <td>0    -1.26270\n",
              "1    -1.44980\n",
              "2    -1.51990\n",
              "3   ...</td>\n",
              "      <td>2</td>\n",
              "    </tr>\n",
              "    <tr>\n",
              "      <th>1027</th>\n",
              "      <td>0     0.714320\n",
              "1     0.629030\n",
              "2     0.117280\n",
              "3...</td>\n",
              "      <td>2</td>\n",
              "    </tr>\n",
              "    <tr>\n",
              "      <th>1028</th>\n",
              "      <td>0    -0.582140\n",
              "1    -1.131200\n",
              "2    -1.497300\n",
              "3...</td>\n",
              "      <td>2</td>\n",
              "    </tr>\n",
              "  </tbody>\n",
              "</table>\n",
              "<p>1096 rows × 2 columns</p>\n",
              "</div>"
            ],
            "text/plain": [
              "                                                  dim_0 class_val\n",
              "0     0    -0.710520\n",
              "1    -1.183300\n",
              "2    -1.372400\n",
              "3...         1\n",
              "1     0    -0.993010\n",
              "1    -1.426800\n",
              "2    -1.579900\n",
              "3...         1\n",
              "2     0     1.319100\n",
              "1     0.569770\n",
              "2     0.195130\n",
              "3...         2\n",
              "3     0    -0.812440\n",
              "1    -1.157600\n",
              "2    -1.416400\n",
              "3...         2\n",
              "4     0    -0.972840\n",
              "1    -1.390500\n",
              "2    -1.536700\n",
              "3...         1\n",
              "...                                                 ...       ...\n",
              "1024  0     0.431020\n",
              "1    -0.518480\n",
              "2    -1.118200\n",
              "3...         2\n",
              "1025  0    -0.61222\n",
              "1    -1.04990\n",
              "2    -1.36250\n",
              "3   ...         1\n",
              "1026  0    -1.26270\n",
              "1    -1.44980\n",
              "2    -1.51990\n",
              "3   ...         2\n",
              "1027  0     0.714320\n",
              "1     0.629030\n",
              "2     0.117280\n",
              "3...         2\n",
              "1028  0    -0.582140\n",
              "1    -1.131200\n",
              "2    -1.497300\n",
              "3...         2\n",
              "\n",
              "[1096 rows x 2 columns]"
            ]
          },
          "metadata": {
            "tags": []
          },
          "execution_count": 42
        }
      ]
    },
    {
      "cell_type": "markdown",
      "metadata": {
        "id": "Kh42N5vqvD5e"
      },
      "source": [
        "Step 1: Compute a Distance Matrix"
      ]
    },
    {
      "cell_type": "code",
      "metadata": {
        "id": "Q0TGr-QwsEaB",
        "colab": {
          "base_uri": "https://localhost:8080/"
        },
        "outputId": "931fdfe0-4f8e-439f-b77a-8e21846f42ab"
      },
      "source": [
        "from sktime.distances.elastic_cython import dtw_distance\n",
        "\n",
        "# Italy Power Demand time series are loaded in a pd.Series format.\n",
        "# The dtw_distance function expects series to be shaped as a (l, m) array, \n",
        "# where l=length of series, m=# dimensions           \n",
        "series_list = data['dim_0'].values\n",
        "series_list"
      ],
      "execution_count": null,
      "outputs": [
        {
          "output_type": "execute_result",
          "data": {
            "text/plain": [
              "array([0    -0.710520\n",
              "1    -1.183300\n",
              "2    -1.372400\n",
              "3    -1.593100\n",
              "4    -1.467000\n",
              "5    -1.372400\n",
              "6    -1.088800\n",
              "7     0.045967\n",
              "8     0.928530\n",
              "9     1.086100\n",
              "10    1.275300\n",
              "11    0.960050\n",
              "12    0.613330\n",
              "13    0.014447\n",
              "14   -0.647480\n",
              "15   -0.269230\n",
              "16   -0.206190\n",
              "17    0.613330\n",
              "18    1.369800\n",
              "19    1.464400\n",
              "20    1.054600\n",
              "21    0.581810\n",
              "22    0.172050\n",
              "23   -0.269230\n",
              "dtype: float64,\n",
              "       0    -0.993010\n",
              "1    -1.426800\n",
              "2    -1.579900\n",
              "3    -1.605400\n",
              "4    -1.630900\n",
              "5    -1.375800\n",
              "6    -1.018500\n",
              "7    -0.355100\n",
              "8     0.716580\n",
              "9     1.201400\n",
              "10    1.124800\n",
              "11    1.048300\n",
              "12    0.793130\n",
              "13    0.461420\n",
              "14    0.486940\n",
              "15    0.563480\n",
              "16    0.614520\n",
              "17    0.308320\n",
              "18    0.257290\n",
              "19    1.099300\n",
              "20    1.048300\n",
              "21    0.691070\n",
              "22   -0.048906\n",
              "23   -0.380620\n",
              "dtype: float64,\n",
              "       0     1.319100\n",
              "1     0.569770\n",
              "2     0.195130\n",
              "3    -0.085856\n",
              "4    -0.179520\n",
              "5    -0.273180\n",
              "6    -0.085856\n",
              "7    -1.397100\n",
              "8    -1.116100\n",
              "9    -0.741490\n",
              "10    0.007805\n",
              "11   -0.085856\n",
              "12    0.007805\n",
              "13   -0.460500\n",
              "14   -0.554160\n",
              "15   -0.741490\n",
              "16   -0.741490\n",
              "17   -0.741490\n",
              "18   -1.116100\n",
              "19   -0.460500\n",
              "20    0.476110\n",
              "21    2.349300\n",
              "22    2.255700\n",
              "23    1.600100\n",
              "dtype: float64,\n",
              "       ...,\n",
              "       0    -1.26270\n",
              "1    -1.44980\n",
              "2    -1.51990\n",
              "3    -1.66020\n",
              "4    -1.70700\n",
              "5    -1.40300\n",
              "6    -1.09900\n",
              "7    -0.16368\n",
              "8     0.65474\n",
              "9     1.05230\n",
              "10    1.05230\n",
              "11    1.02890\n",
              "12    0.91195\n",
              "13    0.65474\n",
              "14    0.70150\n",
              "15    0.70150\n",
              "16    0.74827\n",
              "17    0.49105\n",
              "18    0.30398\n",
              "19    0.44429\n",
              "20    0.56120\n",
              "21    0.81842\n",
              "22    0.28060\n",
              "23   -0.14030\n",
              "dtype: float64,\n",
              "       0     0.714320\n",
              "1     0.629030\n",
              "2     0.117280\n",
              "3    -0.309180\n",
              "4    -0.309180\n",
              "5    -0.309180\n",
              "6     0.031985\n",
              "7    -1.673900\n",
              "8    -1.588600\n",
              "9    -0.223890\n",
              "10   -0.138600\n",
              "11    0.287860\n",
              "12   -0.138600\n",
              "13   -0.479770\n",
              "14   -0.479770\n",
              "15   -0.565060\n",
              "16   -0.565060\n",
              "17   -0.820940\n",
              "18   -0.479770\n",
              "19   -0.309180\n",
              "20    0.117280\n",
              "21    2.420200\n",
              "22    2.164300\n",
              "23    1.908400\n",
              "dtype: float64,\n",
              "       0    -0.582140\n",
              "1    -1.131200\n",
              "2    -1.497300\n",
              "3    -1.680300\n",
              "4    -1.680300\n",
              "5    -1.466800\n",
              "6    -1.192300\n",
              "7    -0.704170\n",
              "8     0.577060\n",
              "9     1.370200\n",
              "10    1.461700\n",
              "11    1.248200\n",
              "12    1.034600\n",
              "13    0.516050\n",
              "14    0.607570\n",
              "15    0.668580\n",
              "16    0.638070\n",
              "17    0.516050\n",
              "18    0.272010\n",
              "19    0.180490\n",
              "20   -0.094058\n",
              "21    0.729590\n",
              "22    0.211000\n",
              "23   -0.002542\n",
              "dtype: float64], dtype=object)"
            ]
          },
          "metadata": {
            "tags": []
          },
          "execution_count": 43
        }
      ]
    },
    {
      "cell_type": "code",
      "metadata": {
        "colab": {
          "base_uri": "https://localhost:8080/"
        },
        "id": "_xZoUjQ1UYgG",
        "outputId": "be0cc82a-0ab6-4a38-de3c-ddbda50836be"
      },
      "source": [
        "series_list.shape"
      ],
      "execution_count": null,
      "outputs": [
        {
          "output_type": "execute_result",
          "data": {
            "text/plain": [
              "(1096,)"
            ]
          },
          "metadata": {
            "tags": []
          },
          "execution_count": 44
        }
      ]
    },
    {
      "cell_type": "code",
      "metadata": {
        "id": "-NFa6PKjsEfs"
      },
      "source": [
        "for i in range(len(series_list)):\n",
        "    length = len(series_list[i])\n",
        "    series_list[i] = series_list[i].values.reshape((length, 1))"
      ],
      "execution_count": null,
      "outputs": []
    },
    {
      "cell_type": "code",
      "metadata": {
        "colab": {
          "base_uri": "https://localhost:8080/"
        },
        "id": "OfBKkIKJaYuw",
        "outputId": "701fb0bc-696d-404f-aae6-1fedcb10f5e6"
      },
      "source": [
        "series_list"
      ],
      "execution_count": null,
      "outputs": [
        {
          "output_type": "execute_result",
          "data": {
            "text/plain": [
              "array([array([[-0.71052 ],\n",
              "       [-1.1833  ],\n",
              "       [-1.3724  ],\n",
              "       [-1.5931  ],\n",
              "       [-1.467   ],\n",
              "       [-1.3724  ],\n",
              "       [-1.0888  ],\n",
              "       [ 0.045967],\n",
              "       [ 0.92853 ],\n",
              "       [ 1.0861  ],\n",
              "       [ 1.2753  ],\n",
              "       [ 0.96005 ],\n",
              "       [ 0.61333 ],\n",
              "       [ 0.014447],\n",
              "       [-0.64748 ],\n",
              "       [-0.26923 ],\n",
              "       [-0.20619 ],\n",
              "       [ 0.61333 ],\n",
              "       [ 1.3698  ],\n",
              "       [ 1.4644  ],\n",
              "       [ 1.0546  ],\n",
              "       [ 0.58181 ],\n",
              "       [ 0.17205 ],\n",
              "       [-0.26923 ]]),\n",
              "       array([[-0.99301 ],\n",
              "       [-1.4268  ],\n",
              "       [-1.5799  ],\n",
              "       [-1.6054  ],\n",
              "       [-1.6309  ],\n",
              "       [-1.3758  ],\n",
              "       [-1.0185  ],\n",
              "       [-0.3551  ],\n",
              "       [ 0.71658 ],\n",
              "       [ 1.2014  ],\n",
              "       [ 1.1248  ],\n",
              "       [ 1.0483  ],\n",
              "       [ 0.79313 ],\n",
              "       [ 0.46142 ],\n",
              "       [ 0.48694 ],\n",
              "       [ 0.56348 ],\n",
              "       [ 0.61452 ],\n",
              "       [ 0.30832 ],\n",
              "       [ 0.25729 ],\n",
              "       [ 1.0993  ],\n",
              "       [ 1.0483  ],\n",
              "       [ 0.69107 ],\n",
              "       [-0.048906],\n",
              "       [-0.38062 ]]),\n",
              "       array([[ 1.3191  ],\n",
              "       [ 0.56977 ],\n",
              "       [ 0.19513 ],\n",
              "       [-0.085856],\n",
              "       [-0.17952 ],\n",
              "       [-0.27318 ],\n",
              "       [-0.085856],\n",
              "       [-1.3971  ],\n",
              "       [-1.1161  ],\n",
              "       [-0.74149 ],\n",
              "       [ 0.007805],\n",
              "       [-0.085856],\n",
              "       [ 0.007805],\n",
              "       [-0.4605  ],\n",
              "       [-0.55416 ],\n",
              "       [-0.74149 ],\n",
              "       [-0.74149 ],\n",
              "       [-0.74149 ],\n",
              "       [-1.1161  ],\n",
              "       [-0.4605  ],\n",
              "       [ 0.47611 ],\n",
              "       [ 2.3493  ],\n",
              "       [ 2.2557  ],\n",
              "       [ 1.6001  ]]),\n",
              "       ...,\n",
              "       array([[-1.2627 ],\n",
              "       [-1.4498 ],\n",
              "       [-1.5199 ],\n",
              "       [-1.6602 ],\n",
              "       [-1.707  ],\n",
              "       [-1.403  ],\n",
              "       [-1.099  ],\n",
              "       [-0.16368],\n",
              "       [ 0.65474],\n",
              "       [ 1.0523 ],\n",
              "       [ 1.0523 ],\n",
              "       [ 1.0289 ],\n",
              "       [ 0.91195],\n",
              "       [ 0.65474],\n",
              "       [ 0.7015 ],\n",
              "       [ 0.7015 ],\n",
              "       [ 0.74827],\n",
              "       [ 0.49105],\n",
              "       [ 0.30398],\n",
              "       [ 0.44429],\n",
              "       [ 0.5612 ],\n",
              "       [ 0.81842],\n",
              "       [ 0.2806 ],\n",
              "       [-0.1403 ]]),\n",
              "       array([[ 0.71432 ],\n",
              "       [ 0.62903 ],\n",
              "       [ 0.11728 ],\n",
              "       [-0.30918 ],\n",
              "       [-0.30918 ],\n",
              "       [-0.30918 ],\n",
              "       [ 0.031985],\n",
              "       [-1.6739  ],\n",
              "       [-1.5886  ],\n",
              "       [-0.22389 ],\n",
              "       [-0.1386  ],\n",
              "       [ 0.28786 ],\n",
              "       [-0.1386  ],\n",
              "       [-0.47977 ],\n",
              "       [-0.47977 ],\n",
              "       [-0.56506 ],\n",
              "       [-0.56506 ],\n",
              "       [-0.82094 ],\n",
              "       [-0.47977 ],\n",
              "       [-0.30918 ],\n",
              "       [ 0.11728 ],\n",
              "       [ 2.4202  ],\n",
              "       [ 2.1643  ],\n",
              "       [ 1.9084  ]]),\n",
              "       array([[-0.58214 ],\n",
              "       [-1.1312  ],\n",
              "       [-1.4973  ],\n",
              "       [-1.6803  ],\n",
              "       [-1.6803  ],\n",
              "       [-1.4668  ],\n",
              "       [-1.1923  ],\n",
              "       [-0.70417 ],\n",
              "       [ 0.57706 ],\n",
              "       [ 1.3702  ],\n",
              "       [ 1.4617  ],\n",
              "       [ 1.2482  ],\n",
              "       [ 1.0346  ],\n",
              "       [ 0.51605 ],\n",
              "       [ 0.60757 ],\n",
              "       [ 0.66858 ],\n",
              "       [ 0.63807 ],\n",
              "       [ 0.51605 ],\n",
              "       [ 0.27201 ],\n",
              "       [ 0.18049 ],\n",
              "       [-0.094058],\n",
              "       [ 0.72959 ],\n",
              "       [ 0.211   ],\n",
              "       [-0.002542]])], dtype=object)"
            ]
          },
          "metadata": {
            "tags": []
          },
          "execution_count": 47
        }
      ]
    },
    {
      "cell_type": "code",
      "metadata": {
        "id": "3nyN9cLOsEk8"
      },
      "source": [
        "# Initialize distance matrix\n",
        "n_series = len(series_list)\n",
        "distance_matrix = np.zeros(shape=(n_series, n_series))"
      ],
      "execution_count": null,
      "outputs": []
    },
    {
      "cell_type": "code",
      "metadata": {
        "id": "OSRv9j-esEpP"
      },
      "source": [
        "# Build distance matrix\n",
        "for i in range(n_series):\n",
        "    for j in range(n_series):\n",
        "        x = series_list[i]\n",
        "        y = series_list[j]\n",
        "        if i != j:\n",
        "            dist = dtw_distance(x, y)\n",
        "            distance_matrix[i, j] = dist"
      ],
      "execution_count": null,
      "outputs": []
    },
    {
      "cell_type": "markdown",
      "metadata": {
        "id": "jkZOeY5Bu_WA"
      },
      "source": [
        "Step 2: Build a Linkage Matrix"
      ]
    },
    {
      "cell_type": "code",
      "metadata": {
        "id": "f8_NWcy8sEuI"
      },
      "source": [
        "from scipy.cluster.hierarchy import single, complete, average, ward, dendrogram\n",
        "\n",
        "def hierarchical_clustering(dist_mat, method='complete'):\n",
        "    if method == 'complete':\n",
        "        Z = complete(distance_matrix)\n",
        "    if method == 'single':\n",
        "        Z = single(distance_matrix)\n",
        "    if method == 'average':\n",
        "        Z = average(distance_matrix)\n",
        "    if method == 'ward':\n",
        "        Z = ward(distance_matrix)\n",
        "    \n",
        "    fig = plt.figure(figsize=(16, 8))\n",
        "    dn = dendrogram(Z)\n",
        "    plt.title(f\"Dendrogram for {method}-linkage with correlation distance\")\n",
        "    plt.show()\n",
        "    \n",
        "    return Z\n",
        "\n",
        "linkage_matrix = hierarchical_clustering(distance_matrix)"
      ],
      "execution_count": null,
      "outputs": []
    },
    {
      "cell_type": "markdown",
      "metadata": {
        "id": "BfUCA9AYvlsO"
      },
      "source": [
        "Step 3: Create Clusters"
      ]
    },
    {
      "cell_type": "code",
      "metadata": {
        "id": "XjzDigBWsExb"
      },
      "source": [
        "from scipy.cluster.hierarchy import fcluster\n",
        "\n",
        "# select maximum number of clusters\n",
        "cluster_labels = fcluster(linkage_matrix, 4, criterion='maxclust')\n",
        "print(np.unique(cluster_labels))\n",
        "#>> 4 unique clusters"
      ],
      "execution_count": null,
      "outputs": []
    },
    {
      "cell_type": "code",
      "metadata": {
        "id": "k9vffz71sE0l"
      },
      "source": [
        "\n",
        "cluster_labels = fcluster(linkage_matrix, 10, criterion='maxclust')\n",
        "print(np.unique(cluster_labels))\n",
        "#>> 10 unique clusters\n"
      ],
      "execution_count": null,
      "outputs": []
    },
    {
      "cell_type": "code",
      "metadata": {
        "id": "Qw-GEAoIv_GO"
      },
      "source": [
        "# hand-select an appropriate cut-off on the dendrogram\n",
        "cluster_labels = fcluster(linkage_matrix, 600, criterion='distance')\n",
        "print(np.unique(cluster_labels))\n",
        "#>> 3 unique clusters\n"
      ],
      "execution_count": null,
      "outputs": []
    },
    {
      "cell_type": "code",
      "metadata": {
        "id": "XOBA8vhQv_UF"
      },
      "source": [
        "cluster_labels = fcluster(linkage_matrix, 800, criterion='distance')\n",
        "print(np.unique(cluster_labels))\n",
        "#>> 2 unique clusters"
      ],
      "execution_count": null,
      "outputs": []
    },
    {
      "cell_type": "code",
      "metadata": {
        "id": "cepxmeEnv_gc"
      },
      "source": [
        ""
      ],
      "execution_count": null,
      "outputs": []
    }
  ]
}