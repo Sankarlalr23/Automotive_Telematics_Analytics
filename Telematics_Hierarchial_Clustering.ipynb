{
  "nbformat": 4,
  "nbformat_minor": 0,
  "metadata": {
    "accelerator": "TPU",
    "colab": {
      "name": "Telematics Hierarchial Clustering.ipynb",
      "provenance": [],
      "authorship_tag": "ABX9TyMbQlOeAXnoX2DHHh+S7ror",
      "include_colab_link": true
    },
    "kernelspec": {
      "display_name": "Python 3",
      "name": "python3"
    },
    "language_info": {
      "name": "python"
    }
  },
  "cells": [
    {
      "cell_type": "markdown",
      "metadata": {
        "id": "view-in-github",
        "colab_type": "text"
      },
      "source": [
        "<a href=\"https://colab.research.google.com/github/Sankarlalr23/Automotive_Telematics_Analytics/blob/main/Telematics_Hierarchial_Clustering.ipynb\" target=\"_parent\"><img src=\"https://colab.research.google.com/assets/colab-badge.svg\" alt=\"Open In Colab\"/></a>"
      ]
    },
    {
      "cell_type": "markdown",
      "metadata": {
        "id": "nGY3BZXa7KCy"
      },
      "source": [
        "The Workbook is crashing while Running. Better not to use as it need a lot of RAM Space.\n"
      ]
    },
    {
      "cell_type": "code",
      "metadata": {
        "id": "2-WQPEXvqctD"
      },
      "source": [
        "import warnings                         #'do not disturb' mode\n",
        "warnings.filterwarnings('ignore')\n",
        "\n",
        "import numpy as np                      # vectors and matrices\n",
        "import pandas as pd                     # tables and data manipulations\n",
        "import matplotlib.pyplot as plt         # plots\n",
        "import seaborn as sns                   # more plots\n",
        "\n",
        "%matplotlib inline"
      ],
      "execution_count": null,
      "outputs": []
    },
    {
      "cell_type": "code",
      "metadata": {
        "colab": {
          "base_uri": "https://localhost:8080/"
        },
        "id": "qCQqhPUcqug-",
        "outputId": "066dd86a-ac43-40ff-9cea-147536e31844"
      },
      "source": [
        "from google.colab import drive\n",
        "drive.mount('/content/drive/')\n",
        "\n",
        "train_path='/content/drive/My Drive/Xen.AI/'\n",
        "data = pd.read_csv('/content/drive/My Drive/Xen.AI/telematics_data.csv')   # data importing"
      ],
      "execution_count": null,
      "outputs": [
        {
          "output_type": "stream",
          "text": [
            "Mounted at /content/drive/\n"
          ],
          "name": "stdout"
        }
      ]
    },
    {
      "cell_type": "code",
      "metadata": {
        "colab": {
          "base_uri": "https://localhost:8080/",
          "height": 391
        },
        "id": "NSG8rDmSquok",
        "outputId": "d0c38b31-7ef1-4abd-a33e-e05c0db402de"
      },
      "source": [
        "data.head()"
      ],
      "execution_count": null,
      "outputs": [
        {
          "output_type": "execute_result",
          "data": {
            "text/html": [
              "<div>\n",
              "<style scoped>\n",
              "    .dataframe tbody tr th:only-of-type {\n",
              "        vertical-align: middle;\n",
              "    }\n",
              "\n",
              "    .dataframe tbody tr th {\n",
              "        vertical-align: top;\n",
              "    }\n",
              "\n",
              "    .dataframe thead th {\n",
              "        text-align: right;\n",
              "    }\n",
              "</style>\n",
              "<table border=\"1\" class=\"dataframe\">\n",
              "  <thead>\n",
              "    <tr style=\"text-align: right;\">\n",
              "      <th></th>\n",
              "      <th>year</th>\n",
              "      <th>month</th>\n",
              "      <th>day</th>\n",
              "      <th>vin</th>\n",
              "      <th>wmi</th>\n",
              "      <th>engine_cd</th>\n",
              "      <th>device_type</th>\n",
              "      <th>msg_ts</th>\n",
              "      <th>vin_utc_key</th>\n",
              "      <th>packet_id</th>\n",
              "      <th>reason_code</th>\n",
              "      <th>script_version</th>\n",
              "      <th>deviceid</th>\n",
              "      <th>latitude</th>\n",
              "      <th>longitude</th>\n",
              "      <th>driveridcode1</th>\n",
              "      <th>obdvin</th>\n",
              "      <th>vehiclebattvolts</th>\n",
              "      <th>fuel_total</th>\n",
              "      <th>engine_rpm</th>\n",
              "      <th>coolant_tmp</th>\n",
              "      <th>fuel_lvl_pct</th>\n",
              "      <th>driving_tme_sec</th>\n",
              "      <th>cruise_tme_sec</th>\n",
              "      <th>idle_tme_sec</th>\n",
              "      <th>idle_fuel_total</th>\n",
              "      <th>pto_tme_total</th>\n",
              "      <th>pto_fuel_total</th>\n",
              "      <th>gear</th>\n",
              "      <th>fuel_tmp</th>\n",
              "      <th>oil_tmpl</th>\n",
              "      <th>throt_pos</th>\n",
              "      <th>mpg</th>\n",
              "      <th>acel_pos</th>\n",
              "      <th>engine_pct_load</th>\n",
              "      <th>torque</th>\n",
              "      <th>oil_lvl</th>\n",
              "      <th>oil_psi</th>\n",
              "      <th>coolant_psi</th>\n",
              "      <th>intak_air_tmp</th>\n",
              "      <th>manifold_tmp</th>\n",
              "      <th>vehiclespeed</th>\n",
              "      <th>heading</th>\n",
              "      <th>odometerinmeters</th>\n",
              "      <th>odometer</th>\n",
              "    </tr>\n",
              "  </thead>\n",
              "  <tbody>\n",
              "    <tr>\n",
              "      <th>0</th>\n",
              "      <td>2020</td>\n",
              "      <td>4</td>\n",
              "      <td>18</td>\n",
              "      <td>3HSDZTZR9KN352697</td>\n",
              "      <td>3HS</td>\n",
              "      <td>TZ</td>\n",
              "      <td>Xirgo</td>\n",
              "      <td>2020-04-18 06:50:40</td>\n",
              "      <td>3HSDZTZR9KN3526972020-04-18 06:50:40</td>\n",
              "      <td>36</td>\n",
              "      <td>9</td>\n",
              "      <td>204.0</td>\n",
              "      <td>173101817</td>\n",
              "      <td>38.799149</td>\n",
              "      <td>-90.603680</td>\n",
              "      <td>0.0</td>\n",
              "      <td>3HSDZTZR9KN352697</td>\n",
              "      <td>14.2</td>\n",
              "      <td>106165.0</td>\n",
              "      <td>1144.0</td>\n",
              "      <td>79.0</td>\n",
              "      <td>41.0</td>\n",
              "      <td>NaN</td>\n",
              "      <td>NaN</td>\n",
              "      <td>2167380.0</td>\n",
              "      <td>1503.0</td>\n",
              "      <td>0.0</td>\n",
              "      <td>0.0</td>\n",
              "      <td>1.0</td>\n",
              "      <td>0.0</td>\n",
              "      <td>76.0</td>\n",
              "      <td>0.0</td>\n",
              "      <td>NaN</td>\n",
              "      <td>0.0</td>\n",
              "      <td>11.0</td>\n",
              "      <td>12.0</td>\n",
              "      <td>0.0</td>\n",
              "      <td>340.0</td>\n",
              "      <td>0.0</td>\n",
              "      <td>4.0</td>\n",
              "      <td>10.0</td>\n",
              "      <td>1005.0</td>\n",
              "      <td>960.0</td>\n",
              "      <td>380663000.0</td>\n",
              "      <td>380663.0</td>\n",
              "    </tr>\n",
              "    <tr>\n",
              "      <th>1</th>\n",
              "      <td>2020</td>\n",
              "      <td>5</td>\n",
              "      <td>20</td>\n",
              "      <td>3HSDZTZR9LN055320</td>\n",
              "      <td>3HS</td>\n",
              "      <td>TZ</td>\n",
              "      <td>Xirgo</td>\n",
              "      <td>2020-05-20 03:01:09</td>\n",
              "      <td>3HSDZTZR9LN0553202020-05-20 03:01:09</td>\n",
              "      <td>36</td>\n",
              "      <td>9</td>\n",
              "      <td>204.0</td>\n",
              "      <td>172301945</td>\n",
              "      <td>33.618963</td>\n",
              "      <td>-84.333847</td>\n",
              "      <td>0.0</td>\n",
              "      <td>3HSDZTZR9LN055320</td>\n",
              "      <td>NaN</td>\n",
              "      <td>NaN</td>\n",
              "      <td>584.0</td>\n",
              "      <td>61.0</td>\n",
              "      <td>NaN</td>\n",
              "      <td>NaN</td>\n",
              "      <td>NaN</td>\n",
              "      <td>NaN</td>\n",
              "      <td>NaN</td>\n",
              "      <td>NaN</td>\n",
              "      <td>0.0</td>\n",
              "      <td>2.0</td>\n",
              "      <td>0.0</td>\n",
              "      <td>56.0</td>\n",
              "      <td>1.0</td>\n",
              "      <td>NaN</td>\n",
              "      <td>0.0</td>\n",
              "      <td>26.0</td>\n",
              "      <td>11.0</td>\n",
              "      <td>0.0</td>\n",
              "      <td>228.0</td>\n",
              "      <td>0.0</td>\n",
              "      <td>24.0</td>\n",
              "      <td>NaN</td>\n",
              "      <td>11.0</td>\n",
              "      <td>700.0</td>\n",
              "      <td>88781990.0</td>\n",
              "      <td>NaN</td>\n",
              "    </tr>\n",
              "    <tr>\n",
              "      <th>2</th>\n",
              "      <td>2020</td>\n",
              "      <td>4</td>\n",
              "      <td>1</td>\n",
              "      <td>3HSDZTZR0KN354211</td>\n",
              "      <td>3HS</td>\n",
              "      <td>TZ</td>\n",
              "      <td>Xirgo</td>\n",
              "      <td>2020-04-01 20:02:39</td>\n",
              "      <td>3HSDZTZR0KN3542112020-04-01 20:02:39</td>\n",
              "      <td>36</td>\n",
              "      <td>9</td>\n",
              "      <td>204.0</td>\n",
              "      <td>173511306</td>\n",
              "      <td>41.139005</td>\n",
              "      <td>-101.173123</td>\n",
              "      <td>0.0</td>\n",
              "      <td>3HSDZTZR0KN354211</td>\n",
              "      <td>NaN</td>\n",
              "      <td>113134.0</td>\n",
              "      <td>1145.0</td>\n",
              "      <td>81.0</td>\n",
              "      <td>NaN</td>\n",
              "      <td>NaN</td>\n",
              "      <td>NaN</td>\n",
              "      <td>1788120.0</td>\n",
              "      <td>1172.0</td>\n",
              "      <td>NaN</td>\n",
              "      <td>0.0</td>\n",
              "      <td>1.0</td>\n",
              "      <td>0.0</td>\n",
              "      <td>NaN</td>\n",
              "      <td>0.0</td>\n",
              "      <td>NaN</td>\n",
              "      <td>NaN</td>\n",
              "      <td>41.0</td>\n",
              "      <td>42.0</td>\n",
              "      <td>NaN</td>\n",
              "      <td>320.0</td>\n",
              "      <td>0.0</td>\n",
              "      <td>25.0</td>\n",
              "      <td>NaN</td>\n",
              "      <td>NaN</td>\n",
              "      <td>2709.0</td>\n",
              "      <td>416436440.0</td>\n",
              "      <td>NaN</td>\n",
              "    </tr>\n",
              "    <tr>\n",
              "      <th>3</th>\n",
              "      <td>2020</td>\n",
              "      <td>5</td>\n",
              "      <td>5</td>\n",
              "      <td>3HSDWTZR8LN845362</td>\n",
              "      <td>3HS</td>\n",
              "      <td>TZ</td>\n",
              "      <td>Xirgo</td>\n",
              "      <td>2020-05-05 06:17:36</td>\n",
              "      <td>3HSDWTZR8LN8453622020-05-05 06:17:36</td>\n",
              "      <td>36</td>\n",
              "      <td>9</td>\n",
              "      <td>204.0</td>\n",
              "      <td>173404340</td>\n",
              "      <td>38.856184</td>\n",
              "      <td>-98.139251</td>\n",
              "      <td>0.0</td>\n",
              "      <td>3HSDWTZR8LN845362</td>\n",
              "      <td>14.0</td>\n",
              "      <td>149410.0</td>\n",
              "      <td>1368.0</td>\n",
              "      <td>81.0</td>\n",
              "      <td>54.0</td>\n",
              "      <td>NaN</td>\n",
              "      <td>NaN</td>\n",
              "      <td>786600.0</td>\n",
              "      <td>497.0</td>\n",
              "      <td>0.0</td>\n",
              "      <td>0.0</td>\n",
              "      <td>1.0</td>\n",
              "      <td>0.0</td>\n",
              "      <td>86.0</td>\n",
              "      <td>0.0</td>\n",
              "      <td>NaN</td>\n",
              "      <td>0.0</td>\n",
              "      <td>19.0</td>\n",
              "      <td>19.0</td>\n",
              "      <td>0.0</td>\n",
              "      <td>424.0</td>\n",
              "      <td>0.0</td>\n",
              "      <td>13.0</td>\n",
              "      <td>30.0</td>\n",
              "      <td>1095.0</td>\n",
              "      <td>838.0</td>\n",
              "      <td>426460520.0</td>\n",
              "      <td>NaN</td>\n",
              "    </tr>\n",
              "    <tr>\n",
              "      <th>4</th>\n",
              "      <td>2020</td>\n",
              "      <td>4</td>\n",
              "      <td>7</td>\n",
              "      <td>3HSDZTZRXLN085409</td>\n",
              "      <td>3HS</td>\n",
              "      <td>TZ</td>\n",
              "      <td>N2</td>\n",
              "      <td>2020-04-07 20:14:07</td>\n",
              "      <td>3HSDZTZRXLN0854092020-04-07 20:14:07</td>\n",
              "      <td>36</td>\n",
              "      <td>9</td>\n",
              "      <td>204.0</td>\n",
              "      <td>190815-0009</td>\n",
              "      <td>33.351086</td>\n",
              "      <td>-87.017387</td>\n",
              "      <td>0.0</td>\n",
              "      <td>3HSDZTZRXLN085409</td>\n",
              "      <td>14.1</td>\n",
              "      <td>33886.0</td>\n",
              "      <td>1167.0</td>\n",
              "      <td>82.0</td>\n",
              "      <td>NaN</td>\n",
              "      <td>4755420.0</td>\n",
              "      <td>NaN</td>\n",
              "      <td>NaN</td>\n",
              "      <td>504.0</td>\n",
              "      <td>0.0</td>\n",
              "      <td>0.0</td>\n",
              "      <td>1.0</td>\n",
              "      <td>NaN</td>\n",
              "      <td>88.0</td>\n",
              "      <td>0.0</td>\n",
              "      <td>NaN</td>\n",
              "      <td>NaN</td>\n",
              "      <td>65.0</td>\n",
              "      <td>67.0</td>\n",
              "      <td>NaN</td>\n",
              "      <td>320.0</td>\n",
              "      <td>NaN</td>\n",
              "      <td>NaN</td>\n",
              "      <td>NaN</td>\n",
              "      <td>1090.0</td>\n",
              "      <td>458.0</td>\n",
              "      <td>107975440.0</td>\n",
              "      <td>NaN</td>\n",
              "    </tr>\n",
              "  </tbody>\n",
              "</table>\n",
              "</div>"
            ],
            "text/plain": [
              "   year  month  day  ... heading odometerinmeters  odometer\n",
              "0  2020      4   18  ...   960.0      380663000.0  380663.0\n",
              "1  2020      5   20  ...   700.0       88781990.0       NaN\n",
              "2  2020      4    1  ...  2709.0      416436440.0       NaN\n",
              "3  2020      5    5  ...   838.0      426460520.0       NaN\n",
              "4  2020      4    7  ...   458.0      107975440.0       NaN\n",
              "\n",
              "[5 rows x 45 columns]"
            ]
          },
          "metadata": {
            "tags": []
          },
          "execution_count": 3
        }
      ]
    },
    {
      "cell_type": "code",
      "metadata": {
        "id": "XSOw8yAhqu2s"
      },
      "source": [
        "# Data frame with important variables only\n",
        "df = pd.DataFrame(data, columns = ['vin','msg_ts','device_type','fuel_total','engine_rpm','coolant_tmp','oil_tmpl',\n",
        "                       'throt_pos','torque','oil_psi','manifold_tmp','vehiclespeed','odometerinmeters'])"
      ],
      "execution_count": null,
      "outputs": []
    },
    {
      "cell_type": "code",
      "metadata": {
        "id": "JpHA8sRtqu_Z"
      },
      "source": [
        "df['msg_ts']=pd.to_datetime(df['msg_ts'])  # Converting msg_ts to date time"
      ],
      "execution_count": null,
      "outputs": []
    },
    {
      "cell_type": "code",
      "metadata": {
        "id": "t18pi4XXq0MB"
      },
      "source": [
        "df = df.reset_index()\n",
        "df = df.drop('index', axis =1)"
      ],
      "execution_count": null,
      "outputs": []
    },
    {
      "cell_type": "code",
      "metadata": {
        "colab": {
          "base_uri": "https://localhost:8080/"
        },
        "id": "13kIhdrXq0Vi",
        "outputId": "298c5007-7bab-4b72-e4d5-6e628300d447"
      },
      "source": [
        "df.isnull().sum()/len(df) * 100 "
      ],
      "execution_count": null,
      "outputs": [
        {
          "output_type": "execute_result",
          "data": {
            "text/plain": [
              "vin                  0.000000\n",
              "msg_ts               0.000000\n",
              "device_type          0.000000\n",
              "fuel_total          11.810623\n",
              "engine_rpm           0.000000\n",
              "coolant_tmp         11.096828\n",
              "oil_tmpl            11.075469\n",
              "throt_pos           11.072168\n",
              "torque               7.697760\n",
              "oil_psi             11.084984\n",
              "manifold_tmp        10.909447\n",
              "vehiclespeed         5.309576\n",
              "odometerinmeters     5.280256\n",
              "dtype: float64"
            ]
          },
          "metadata": {
            "tags": []
          },
          "execution_count": 7
        }
      ]
    },
    {
      "cell_type": "code",
      "metadata": {
        "id": "MQL95XARq0cw"
      },
      "source": [
        "df = df.dropna(axis = 0, how = 'any')"
      ],
      "execution_count": null,
      "outputs": []
    },
    {
      "cell_type": "code",
      "metadata": {
        "id": "jUbyWqiuq0iZ"
      },
      "source": [
        "df = df[df[\"device_type\"] == 'Xirgo']\n",
        "df = df[df[\"engine_rpm\"] >= 1000]"
      ],
      "execution_count": null,
      "outputs": []
    },
    {
      "cell_type": "code",
      "metadata": {
        "id": "M69U7ZxFq0n_"
      },
      "source": [
        "df = df.drop('device_type', axis =1)\n",
        "\n",
        "df = df.reset_index()\n",
        "df = df.drop('index', axis =1)"
      ],
      "execution_count": null,
      "outputs": []
    },
    {
      "cell_type": "code",
      "metadata": {
        "colab": {
          "base_uri": "https://localhost:8080/"
        },
        "id": "4mN0qRXMq0tU",
        "outputId": "e47d51ea-8c99-4d33-f8a3-6348fbcc7222"
      },
      "source": [
        "df.isnull().sum()/len(df) * 100 "
      ],
      "execution_count": null,
      "outputs": [
        {
          "output_type": "execute_result",
          "data": {
            "text/plain": [
              "vin                 0.0\n",
              "msg_ts              0.0\n",
              "fuel_total          0.0\n",
              "engine_rpm          0.0\n",
              "coolant_tmp         0.0\n",
              "oil_tmpl            0.0\n",
              "throt_pos           0.0\n",
              "torque              0.0\n",
              "oil_psi             0.0\n",
              "manifold_tmp        0.0\n",
              "vehiclespeed        0.0\n",
              "odometerinmeters    0.0\n",
              "dtype: float64"
            ]
          },
          "metadata": {
            "tags": []
          },
          "execution_count": 11
        }
      ]
    },
    {
      "cell_type": "code",
      "metadata": {
        "colab": {
          "base_uri": "https://localhost:8080/",
          "height": 578
        },
        "id": "_pz37lEkq0xi",
        "outputId": "7dc726c1-42f3-4691-989f-73ee0f739ae5"
      },
      "source": [
        "corrmat = df.corr()\n",
        "f, ax = plt.subplots(figsize=(12, 9))\n",
        "sns.heatmap(corrmat,vmax=1, square=True, annot = True)\n",
        "plt.show()"
      ],
      "execution_count": null,
      "outputs": [
        {
          "output_type": "display_data",
          "data": {
            "image/png": "[encoded data removed]",
            "text/plain": [
              "<Figure size 864x648 with 2 Axes>"
            ]
          },
          "metadata": {
            "tags": []
          }
        }
      ]
    },
    {
      "cell_type": "code",
      "metadata": {
        "colab": {
          "base_uri": "https://localhost:8080/"
        },
        "id": "lD93SnCUq09D",
        "outputId": "7af90fdf-1b23-4f95-87fe-04eabae1f4b9"
      },
      "source": [
        "dups = df.pivot_table(index = ['vin'], aggfunc ='size')\n",
        "dupsdf=pd.DataFrame(dups)\n",
        "dupsdf=dupsdf.apply(lambda x: x.sort_values(ascending=False))\n",
        "print(dupsdf.index[:100])"
      ],
      "execution_count": null,
      "outputs": [
        {
          "output_type": "stream",
          "text": [
            "Index(['3HSDZTZR5LN134290', '1HSERTZRXLH809470', '3HSDZTZRXLN395656',\n",
            "       '3HSDZTZR3LN154022', '3HSDZTZR0LN880114', '3HSDZTZR3KN315175',\n",
            "       '3HSDZTZR1KN174476', '3HSDZTZR8KN398425', '3HSDZTZR3LN833708',\n",
            "       '3HSDZTZR4LN056083', '3HSDZTZR7LN630689', '3HSDZTZR6LN065318',\n",
            "       '3HSDZTZR6LN056148', '3HSDZTZR8LN139435', '3HSDWTZR2LN845423',\n",
            "       '3HSDZTZR5KN140444', '3HSDZTZR4LN822992', '3HSDZTZR4KN126504',\n",
            "       '3HSDWTZR5LN844783', '3HSDZTZR2LN112232', '3HSDZTZR8KN537162',\n",
            "       '3HSDZTZR9KN136686', '3HSDZTZR6KN540223', '3HSDZTZR4KN227364',\n",
            "       '3HSDZTZR1LN081863', '3HSDZTZR0KN279915', '3HSDZTZR2LN817113',\n",
            "       '3HSDZTZR0LN437333', '3HSDWTZR9LN810071', '3HSDWTZR6LN844811',\n",
            "       '3HCDZTZRXLL056502', '3HSDZTZR0LN384388', '3HSDZTZR3LN054647',\n",
            "       '3HSDWTZR3LN845348', '3HSDZTZR6LN056070', '3HSDZTZR9LN055320',\n",
            "       '3HSDWTZR7LN064378', '3HSDZTZR1LN125327', '3HSDWTZR9LN844849',\n",
            "       '3HSDZTZR6LN112511', '3HSDWTZR2LN845308', '3HSDZTZRXLN443043',\n",
            "       '3HSDZTZR1LN290908', '3HSDWTZR8LN845362', '3HSDWTZR1LN845090',\n",
            "       '3HSDZTZR2LN075067', '3HSDZTZR0LN630677', '3HSDWTZRXLN844861',\n",
            "       '3HSDZTZR0LN062656', '3HSDWTZRXKN315831', '3HSDWTZR0LN845338',\n",
            "       '3HSDZTZR0LN291791', '3HSDWTZR8KN308697', '3HSDWTZR2LN844773',\n",
            "       '3HSDZTZR4KN547798', '3HSDWTZRXLN845024', '3HSDWTZR5LN845352',\n",
            "       '3HSDWTZRXKN310631', '3HSDWTZR9LN845466', '3HCDZTZR6LL833600',\n",
            "       '3HSDWTZR5LN845092', '3HSDZTZR7KN314305', '3HCDZTZR6LL833595',\n",
            "       '3HSDWTZR5LN845108', '3HSDWTZR3KN308686', '3HSDWTZR7LN844803',\n",
            "       '3HSDZTZR0KN354211', '3HSDWTZR8LN845216', '3HSDWTZR8LN845149',\n",
            "       '3HSDZTZR2LN630681', '3HSDWTZR9LN845094', '3HSDWTZR7LN810070',\n",
            "       '3HSDWTZR9LN845337', '3HCDZTZR1LL158318', '3HSDWTZR0LN844822',\n",
            "       '3HSDWTZR9KN310622', '3HSDWTZR1LN845199', '3HSDZTZR9KN352697',\n",
            "       '3HSDZTZRXLN085409', '3HCDZTZR2LL070362', '3HCDYTZN8LL296583',\n",
            "       '3HCDZTZR1LL880100', '3HCDZTZR1ML681274', '3HSDZTZR5LN164115',\n",
            "       '3HSDWTZR3LN211277', '3HSDWTZR1LN887792', '3HSDZTZR9LN085496',\n",
            "       '3HCDZTZR6ML684705', '3HSDZTZR1LN871454', '3HSDZTZR2LN230944',\n",
            "       '3HSDWTZR2LN854882', '3HCDZTZR5LL880102', '3HCDZTZR3LL880101',\n",
            "       '3HSDZTZR3MN096740', '3HCDZTZR9LL880099', '3HSDZTZR3LN164114',\n",
            "       '3HCDZTZR7LL880103', '3HSDWTZR6LN854884', '3HCDZTZR0ML681251',\n",
            "       '3HSDZTZR3LN852131'],\n",
            "      dtype='object', name='vin')\n"
          ],
          "name": "stdout"
        }
      ]
    },
    {
      "cell_type": "code",
      "metadata": {
        "id": "MmSM6dA_q1DI"
      },
      "source": [
        "top10_vins = list(dupsdf.index[:5])\n",
        "df_top10 = df[df['vin'].isin(top10_vins)]"
      ],
      "execution_count": null,
      "outputs": []
    },
    {
      "cell_type": "markdown",
      "metadata": {
        "id": "ZhbqwUrmJoQs"
      },
      "source": [
        "# Apply Hierarchical Clustering to Time Series"
      ]
    },
    {
      "cell_type": "code",
      "metadata": {
        "colab": {
          "base_uri": "https://localhost:8080/"
        },
        "id": "qzHE5L7iq1J0",
        "outputId": "3331d2cd-2d7a-493a-d151-deb2eee26dc1"
      },
      "source": [
        "df_top10.columns"
      ],
      "execution_count": null,
      "outputs": [
        {
          "output_type": "execute_result",
          "data": {
            "text/plain": [
              "Index(['vin', 'msg_ts', 'fuel_total', 'engine_rpm', 'coolant_tmp', 'oil_tmpl',\n",
              "       'throt_pos', 'torque', 'oil_psi', 'manifold_tmp', 'vehiclespeed',\n",
              "       'odometerinmeters'],\n",
              "      dtype='object')"
            ]
          },
          "metadata": {
            "tags": []
          },
          "execution_count": 15
        }
      ]
    },
    {
      "cell_type": "code",
      "metadata": {
        "colab": {
          "base_uri": "https://localhost:8080/",
          "height": 690
        },
        "id": "DF84tSgPqvHz",
        "outputId": "1cb211bd-9187-43f7-cda5-9d703f6bfc2c"
      },
      "source": [
        "pip install sktime"
      ],
      "execution_count": null,
      "outputs": [
        {
          "output_type": "stream",
          "text": [
            "Collecting sktime\n",
            "\u001b[?25l  Downloading https://files.pythonhosted.org/packages/ed/0b/ee4c2a9f2ef22eea4e202c4740142f3dfb8a3e5f9f1b36731b39b58ca432/sktime-0.6.0-cp37-cp37m-manylinux2014_x86_64.whl (5.7MB)\n",
            "\u001b[K     |████████████████████████████████| 5.7MB 4.9MB/s \n",
            "\u001b[?25hRequirement already satisfied: pandas>=1.1.0 in /usr/local/lib/python3.7/dist-packages (from sktime) (1.1.5)\n",
            "Collecting statsmodels>=0.12.1\n",
            "\u001b[?25l  Downloading https://files.pythonhosted.org/packages/da/69/8eef30a6237c54f3c0b524140e2975f4b1eea3489b45eb3339574fc8acee/statsmodels-0.12.2-cp37-cp37m-manylinux1_x86_64.whl (9.5MB)\n",
            "\u001b[K     |████████████████████████████████| 9.5MB 30.6MB/s \n",
            "\u001b[?25hRequirement already satisfied: numba>=0.50 in /usr/local/lib/python3.7/dist-packages (from sktime) (0.51.2)\n",
            "Requirement already satisfied: numpy>=1.19.0 in /usr/local/lib/python3.7/dist-packages (from sktime) (1.19.5)\n",
            "Collecting scikit-learn>=0.24.0\n",
            "\u001b[?25l  Downloading https://files.pythonhosted.org/packages/a8/eb/a48f25c967526b66d5f1fa7a984594f0bf0a5afafa94a8c4dbc317744620/scikit_learn-0.24.2-cp37-cp37m-manylinux2010_x86_64.whl (22.3MB)\n",
            "\u001b[K     |████████████████████████████████| 22.3MB 1.4MB/s \n",
            "\u001b[?25hRequirement already satisfied: wheel in /usr/local/lib/python3.7/dist-packages (from sktime) (0.36.2)\n",
            "Requirement already satisfied: pytz>=2017.2 in /usr/local/lib/python3.7/dist-packages (from pandas>=1.1.0->sktime) (2018.9)\n",
            "Requirement already satisfied: python-dateutil>=2.7.3 in /usr/local/lib/python3.7/dist-packages (from pandas>=1.1.0->sktime) (2.8.1)\n",
            "Requirement already satisfied: scipy>=1.1 in /usr/local/lib/python3.7/dist-packages (from statsmodels>=0.12.1->sktime) (1.4.1)\n",
            "Requirement already satisfied: patsy>=0.5 in /usr/local/lib/python3.7/dist-packages (from statsmodels>=0.12.1->sktime) (0.5.1)\n",
            "Requirement already satisfied: setuptools in /usr/local/lib/python3.7/dist-packages (from numba>=0.50->sktime) (56.1.0)\n",
            "Requirement already satisfied: llvmlite<0.35,>=0.34.0.dev0 in /usr/local/lib/python3.7/dist-packages (from numba>=0.50->sktime) (0.34.0)\n",
            "Collecting threadpoolctl>=2.0.0\n",
            "  Downloading https://files.pythonhosted.org/packages/f7/12/ec3f2e203afa394a149911729357aa48affc59c20e2c1c8297a60f33f133/threadpoolctl-2.1.0-py3-none-any.whl\n",
            "Requirement already satisfied: joblib>=0.11 in /usr/local/lib/python3.7/dist-packages (from scikit-learn>=0.24.0->sktime) (1.0.1)\n",
            "Requirement already satisfied: six>=1.5 in /usr/local/lib/python3.7/dist-packages (from python-dateutil>=2.7.3->pandas>=1.1.0->sktime) (1.15.0)\n",
            "Installing collected packages: statsmodels, threadpoolctl, scikit-learn, sktime\n",
            "  Found existing installation: statsmodels 0.10.2\n",
            "    Uninstalling statsmodels-0.10.2:\n",
            "      Successfully uninstalled statsmodels-0.10.2\n",
            "  Found existing installation: scikit-learn 0.22.2.post1\n",
            "    Uninstalling scikit-learn-0.22.2.post1:\n",
            "      Successfully uninstalled scikit-learn-0.22.2.post1\n",
            "Successfully installed scikit-learn-0.24.2 sktime-0.6.0 statsmodels-0.12.2 threadpoolctl-2.1.0\n"
          ],
          "name": "stdout"
        },
        {
          "output_type": "display_data",
          "data": {
            "application/vnd.colab-display-data+json": {
              "pip_warning": {
                "packages": [
                  "statsmodels"
                ]
              }
            }
          },
          "metadata": {
            "tags": []
          }
        }
      ]
    },
    {
      "cell_type": "code",
      "metadata": {
        "id": "Ut5EVIt3Jtzt"
      },
      "source": [
        "from sktime.distances.elastic_cython import dtw_distance\n",
        "\n",
        "# df_col = pd.DataFrame(data = df_top10, columns = ['fuel_total', 'engine_rpm', 'coolant_tmp','oil_tmpl','throt_pos', \n",
        "#                                                        'torque', 'oil_psi', 'manifold_tmp', 'vehiclespeed','odometerinmeters'])\n",
        "df_col = pd.DataFrame(data = df_top10, columns = ['engine_rpm','coolant_tmp'])"
      ],
      "execution_count": null,
      "outputs": []
    },
    {
      "cell_type": "code",
      "metadata": {
        "id": "IFKmwlYtJt32"
      },
      "source": [
        "series_list = df_col.values"
      ],
      "execution_count": null,
      "outputs": []
    },
    {
      "cell_type": "code",
      "metadata": {
        "id": "Ij3nnPVKJt8M"
      },
      "source": [
        "series_list = series_list.reshape(series_list.shape[0], series_list.shape[1],1)"
      ],
      "execution_count": null,
      "outputs": []
    },
    {
      "cell_type": "code",
      "metadata": {
        "id": "dpFQhzJWLZXh"
      },
      "source": [
        "for i in range(len(series_list)):\n",
        "    length = len(series_list[i])\n",
        "    # series_list[i] = np.array(series_list[i]).reshape((length,2))"
      ],
      "execution_count": null,
      "outputs": []
    },
    {
      "cell_type": "code",
      "metadata": {
        "colab": {
          "base_uri": "https://localhost:8080/"
        },
        "id": "5KSeOjv7LHUE",
        "outputId": "0b344fb9-3aa6-4e01-e3f6-38db8e91e8df"
      },
      "source": [
        "series_list"
      ],
      "execution_count": null,
      "outputs": [
        {
          "output_type": "execute_result",
          "data": {
            "text/plain": [
              "array([[[1240.],\n",
              "        [  81.]],\n",
              "\n",
              "       [[1319.],\n",
              "        [  83.]],\n",
              "\n",
              "       [[1226.],\n",
              "        [  87.]],\n",
              "\n",
              "       ...,\n",
              "\n",
              "       [[1260.],\n",
              "        [  81.]],\n",
              "\n",
              "       [[1141.],\n",
              "        [  81.]],\n",
              "\n",
              "       [[1264.],\n",
              "        [  80.]]])"
            ]
          },
          "metadata": {
            "tags": []
          },
          "execution_count": 21
        }
      ]
    },
    {
      "cell_type": "code",
      "metadata": {
        "id": "y6ymlD8pJuDU"
      },
      "source": [
        "# Initialize distance matrix\n",
        "n_series = len(series_list)\n",
        "distance_matrix = np.zeros(shape=(n_series, n_series))"
      ],
      "execution_count": null,
      "outputs": []
    },
    {
      "cell_type": "code",
      "metadata": {
        "colab": {
          "base_uri": "https://localhost:8080/"
        },
        "id": "h8vqtfLki_bv",
        "outputId": "60bc0d8c-cace-4e6b-bf99-7845efe76956"
      },
      "source": [
        "print(series_list[0])"
      ],
      "execution_count": null,
      "outputs": [
        {
          "output_type": "stream",
          "text": [
            "[[1240.]\n",
            " [  81.]]\n"
          ],
          "name": "stdout"
        }
      ]
    },
    {
      "cell_type": "code",
      "metadata": {
        "colab": {
          "background_save": true
        },
        "id": "AcVJ68jgJuGx"
      },
      "source": [
        "# Build distance matrix\n",
        "for i in range(n_series):\n",
        "    for j in range(n_series):\n",
        "        x = series_list[i]\n",
        "        y = series_list[j]\n",
        "        if i != j:\n",
        "            dist = dtw_distance(x, y)\n",
        "            distance_matrix[i, j] = dist"
      ],
      "execution_count": null,
      "outputs": []
    },
    {
      "cell_type": "code",
      "metadata": {
        "colab": {
          "background_save": true
        },
        "id": "EIEAAoRgdRNy"
      },
      "source": [
        "#Binary data\n",
        "np.save('distance_matrix.npy', distance_matrix)\n",
        "\n",
        "#Human readable data\n",
        "np.savetxt('distance_matrix.txt', distance_matrix)"
      ],
      "execution_count": null,
      "outputs": []
    },
    {
      "cell_type": "code",
      "metadata": {
        "colab": {
          "background_save": true
        },
        "id": "oX4W-1xadyVu"
      },
      "source": [
        "# distance_matrix = np.load('distance_matrix.npy')"
      ],
      "execution_count": null,
      "outputs": []
    },
    {
      "cell_type": "code",
      "metadata": {
        "colab": {
          "background_save": true
        },
        "id": "hvLzguvHqvT7"
      },
      "source": [
        "from scipy.cluster.hierarchy import single, complete, average, ward, dendrogram\n",
        "\n",
        "def hierarchical_clustering(dist_mat, method='complete'):\n",
        "    if method == 'complete':\n",
        "        Z = complete(distance_matrix)\n",
        "    if method == 'single':\n",
        "        Z = single(distance_matrix)\n",
        "    if method == 'average':\n",
        "        Z = average(distance_matrix)\n",
        "    if method == 'ward':\n",
        "        Z = ward(distance_matrix)\n",
        "    \n",
        "    fig = plt.figure(figsize=(16, 8))\n",
        "    dn = dendrogram(Z)\n",
        "    plt.title(f\"Dendrogram for {method}-linkage with correlation distance\")\n",
        "    plt.show()\n",
        "    \n",
        "    return Z"
      ],
      "execution_count": null,
      "outputs": []
    },
    {
      "cell_type": "code",
      "metadata": {
        "id": "cMr3McdecOQs"
      },
      "source": [
        "linkage_matrix = hierarchical_clustering(distance_matrix)"
      ],
      "execution_count": null,
      "outputs": []
    }
  ]
}